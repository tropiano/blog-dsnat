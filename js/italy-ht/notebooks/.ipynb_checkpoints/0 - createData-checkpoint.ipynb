{
 "cells": [
  {
   "cell_type": "code",
   "execution_count": 1,
   "metadata": {
    "collapsed": false
   },
   "outputs": [
    {
     "ename": "ImportError",
     "evalue": "No module named pyhattrick.pyhattrick.pyhattrick",
     "output_type": "error",
     "traceback": [
      "\u001b[1;31m---------------------------------------------------------------------------\u001b[0m",
      "\u001b[1;31mImportError\u001b[0m                               Traceback (most recent call last)",
      "\u001b[1;32m<ipython-input-1-e39f48cb051e>\u001b[0m in \u001b[0;36m<module>\u001b[1;34m()\u001b[0m\n\u001b[1;32m----> 1\u001b[1;33m \u001b[1;32mimport\u001b[0m \u001b[0mpyhattrick\u001b[0m\u001b[1;33m.\u001b[0m\u001b[0mpyhattrick\u001b[0m\u001b[1;33m.\u001b[0m\u001b[0mpyhattrick\u001b[0m \u001b[1;32mas\u001b[0m \u001b[0mpht\u001b[0m\u001b[1;33m\u001b[0m\u001b[0m\n\u001b[0m\u001b[0;32m      2\u001b[0m \u001b[1;32mimport\u001b[0m \u001b[0mpandas\u001b[0m \u001b[1;32mas\u001b[0m \u001b[0mpd\u001b[0m\u001b[1;33m\u001b[0m\u001b[0m\n",
      "\u001b[1;31mImportError\u001b[0m: No module named pyhattrick.pyhattrick.pyhattrick"
     ]
    }
   ],
   "source": [
    "import pyhattrick.pyhattrick.pyhattrick as pht \n",
    "import pandas as pd \n"
   ]
  },
  {
   "cell_type": "code",
   "execution_count": 12,
   "metadata": {
    "collapsed": false
   },
   "outputs": [],
   "source": [
    " team_data = []\n",
    "series    = []\n",
    "teams     = []\n",
    "\n",
    "\n",
    "seriesid = pht.get_series_id_from_name(\"Serie A\")\n",
    "teams.append((pht.get_teams_from_series_id(seriesid),\"Serie A\"))\n",
    "\n",
    "for i in range(4):\n",
    "    seriesid = pht.get_series_id_from_name(\"II.\"+str(i+1))\n",
    "    teams.append((pht.get_teams_from_series_id(seriesid),\"II.\"+str(i+1)))\n",
    "    \n",
    "for i in range(16):\n",
    "    seriesid = pht.get_series_id_from_name(\"III.\"+str(i+1))\n",
    "    teams.append((pht.get_teams_from_series_id(seriesid),\"III.\"+str(i+1)))\n",
    "\n",
    "for i in range(64):\n",
    "    seriesid = pht.get_series_id_from_name(\"IV.\"+str(i+1))\n",
    "    teams.append((pht.get_teams_from_series_id(seriesid),\"IV.\"+str(i+1)))\n",
    "\n",
    "\n",
    "for team in teams:\n",
    "    league  = team[1]\n",
    "    for t in team[0]:\n",
    "        name    = t['team_name']\n",
    "        id      = t['team_id']  \n",
    "        gF      = t['team_gFor']\n",
    "        gA      = t['team_gAga']\n",
    "        points  = t['team_points']\n",
    "        details = pht.get_team_details_from_team_id(id)\n",
    "        region  = details['team_region']\n",
    "        team_data.append((name, gF, gA, points, region,league))\n",
    "\n",
    "df = pd.DataFrame(columns=('name','gF','gA','points','region','league'),data=team_data)\n"
   ]
  },
  {
   "cell_type": "code",
   "execution_count": 13,
   "metadata": {
    "collapsed": false
   },
   "outputs": [],
   "source": [
    "df.tail(10)\n",
    "df.to_csv(\"teamdata.csv\", encoding='utf-8')"
   ]
  },
  {
   "cell_type": "code",
   "execution_count": 14,
   "metadata": {
    "collapsed": false
   },
   "outputs": [
    {
     "data": {
      "text/html": [
       "<div>\n",
       "<table border=\"1\" class=\"dataframe\">\n",
       "  <thead>\n",
       "    <tr style=\"text-align: right;\">\n",
       "      <th></th>\n",
       "      <th>name</th>\n",
       "      <th>gF</th>\n",
       "      <th>gA</th>\n",
       "      <th>points</th>\n",
       "      <th>region</th>\n",
       "      <th>league</th>\n",
       "    </tr>\n",
       "  </thead>\n",
       "  <tbody>\n",
       "    <tr>\n",
       "      <th>670</th>\n",
       "      <td>Ciuc United</td>\n",
       "      <td>9</td>\n",
       "      <td>16</td>\n",
       "      <td>4</td>\n",
       "      <td>Piemonte</td>\n",
       "      <td>IV.63</td>\n",
       "    </tr>\n",
       "    <tr>\n",
       "      <th>671</th>\n",
       "      <td>Realcoi</td>\n",
       "      <td>5</td>\n",
       "      <td>12</td>\n",
       "      <td>3</td>\n",
       "      <td>Lombardia</td>\n",
       "      <td>IV.63</td>\n",
       "    </tr>\n",
       "    <tr>\n",
       "      <th>672</th>\n",
       "      <td>S.S.C.Polletti</td>\n",
       "      <td>20</td>\n",
       "      <td>7</td>\n",
       "      <td>12</td>\n",
       "      <td>Campania</td>\n",
       "      <td>IV.64</td>\n",
       "    </tr>\n",
       "    <tr>\n",
       "      <th>673</th>\n",
       "      <td>Francavilla Fontana</td>\n",
       "      <td>20</td>\n",
       "      <td>7</td>\n",
       "      <td>11</td>\n",
       "      <td>Puglia</td>\n",
       "      <td>IV.64</td>\n",
       "    </tr>\n",
       "    <tr>\n",
       "      <th>674</th>\n",
       "      <td>Brig@nti</td>\n",
       "      <td>20</td>\n",
       "      <td>7</td>\n",
       "      <td>10</td>\n",
       "      <td>Roma</td>\n",
       "      <td>IV.64</td>\n",
       "    </tr>\n",
       "    <tr>\n",
       "      <th>675</th>\n",
       "      <td>A.C. Rimini 2011</td>\n",
       "      <td>16</td>\n",
       "      <td>12</td>\n",
       "      <td>9</td>\n",
       "      <td>Emilia Romagna</td>\n",
       "      <td>IV.64</td>\n",
       "    </tr>\n",
       "    <tr>\n",
       "      <th>676</th>\n",
       "      <td>Mich's brothers</td>\n",
       "      <td>14</td>\n",
       "      <td>10</td>\n",
       "      <td>7</td>\n",
       "      <td>Veneto</td>\n",
       "      <td>IV.64</td>\n",
       "    </tr>\n",
       "    <tr>\n",
       "      <th>677</th>\n",
       "      <td>Real San Foca</td>\n",
       "      <td>13</td>\n",
       "      <td>14</td>\n",
       "      <td>5</td>\n",
       "      <td>Puglia</td>\n",
       "      <td>IV.64</td>\n",
       "    </tr>\n",
       "    <tr>\n",
       "      <th>678</th>\n",
       "      <td>Delije Red Star</td>\n",
       "      <td>6</td>\n",
       "      <td>18</td>\n",
       "      <td>2</td>\n",
       "      <td>Emilia Romagna</td>\n",
       "      <td>IV.64</td>\n",
       "    </tr>\n",
       "    <tr>\n",
       "      <th>679</th>\n",
       "      <td>Atletico Bruneiro</td>\n",
       "      <td>2</td>\n",
       "      <td>36</td>\n",
       "      <td>0</td>\n",
       "      <td>Veneto</td>\n",
       "      <td>IV.64</td>\n",
       "    </tr>\n",
       "  </tbody>\n",
       "</table>\n",
       "</div>"
      ],
      "text/plain": [
       "                    name  gF  gA  points          region league\n",
       "670          Ciuc United   9  16       4        Piemonte  IV.63\n",
       "671              Realcoi   5  12       3       Lombardia  IV.63\n",
       "672       S.S.C.Polletti  20   7      12        Campania  IV.64\n",
       "673  Francavilla Fontana  20   7      11          Puglia  IV.64\n",
       "674             Brig@nti  20   7      10            Roma  IV.64\n",
       "675     A.C. Rimini 2011  16  12       9  Emilia Romagna  IV.64\n",
       "676      Mich's brothers  14  10       7          Veneto  IV.64\n",
       "677        Real San Foca  13  14       5          Puglia  IV.64\n",
       "678      Delije Red Star   6  18       2  Emilia Romagna  IV.64\n",
       "679    Atletico Bruneiro   2  36       0          Veneto  IV.64"
      ]
     },
     "execution_count": 14,
     "metadata": {},
     "output_type": "execute_result"
    }
   ],
   "source": [
    "df.tail(10)"
   ]
  },
  {
   "cell_type": "code",
   "execution_count": null,
   "metadata": {
    "collapsed": true
   },
   "outputs": [],
   "source": []
  }
 ],
 "metadata": {
  "kernelspec": {
   "display_name": "Python 2",
   "language": "python",
   "name": "python2"
  },
  "language_info": {
   "codemirror_mode": {
    "name": "ipython",
    "version": 2
   },
   "file_extension": ".py",
   "mimetype": "text/x-python",
   "name": "python",
   "nbconvert_exporter": "python",
   "pygments_lexer": "ipython2",
   "version": "2.7.11"
  }
 },
 "nbformat": 4,
 "nbformat_minor": 0
}
